{
 "cells": [
  {
   "cell_type": "code",
   "execution_count": 262,
   "metadata": {},
   "outputs": [
    {
     "name": "stderr",
     "output_type": "stream",
     "text": [
      "[nltk_data] Downloading package stopwords to\n",
      "[nltk_data]     /Users/gastonmontes/nltk_data...\n",
      "[nltk_data]   Package stopwords is already up-to-date!\n"
     ]
    }
   ],
   "source": [
    "import pandas as pd\n",
    "import nltk\n",
    "nltk.download('stopwords')\n",
    "from nltk.corpus import stopwords"
   ]
  },
  {
   "cell_type": "code",
   "execution_count": 263,
   "metadata": {},
   "outputs": [],
   "source": [
    "# Leo los archivos a utilizar. Solo las columnas de mi interés.\n",
    "trainData = pd.read_csv('../Data/train.csv', usecols=['id', 'text', 'target'])\n",
    "testData = pd.read_csv('../Data/test.csv', usecols=['id', 'text'])"
   ]
  },
  {
   "cell_type": "markdown",
   "metadata": {},
   "source": [
    "# Proceso el train y test set\n",
    "Obtengo el train set como (word, target) y el test set como (id, word)\n",
    "\n",
    "Me fijo cómo es la estructura de cada set de datos."
   ]
  },
  {
   "cell_type": "code",
   "execution_count": 264,
   "metadata": {},
   "outputs": [
    {
     "data": {
      "text/html": [
       "<div>\n",
       "<style scoped>\n",
       "    .dataframe tbody tr th:only-of-type {\n",
       "        vertical-align: middle;\n",
       "    }\n",
       "\n",
       "    .dataframe tbody tr th {\n",
       "        vertical-align: top;\n",
       "    }\n",
       "\n",
       "    .dataframe thead th {\n",
       "        text-align: right;\n",
       "    }\n",
       "</style>\n",
       "<table border=\"1\" class=\"dataframe\">\n",
       "  <thead>\n",
       "    <tr style=\"text-align: right;\">\n",
       "      <th></th>\n",
       "      <th>id</th>\n",
       "      <th>text</th>\n",
       "      <th>target</th>\n",
       "    </tr>\n",
       "  </thead>\n",
       "  <tbody>\n",
       "    <tr>\n",
       "      <th>0</th>\n",
       "      <td>1</td>\n",
       "      <td>Our Deeds are the Reason of this #earthquake M...</td>\n",
       "      <td>1</td>\n",
       "    </tr>\n",
       "    <tr>\n",
       "      <th>1</th>\n",
       "      <td>4</td>\n",
       "      <td>Forest fire near La Ronge Sask. Canada</td>\n",
       "      <td>1</td>\n",
       "    </tr>\n",
       "    <tr>\n",
       "      <th>2</th>\n",
       "      <td>5</td>\n",
       "      <td>All residents asked to 'shelter in place' are ...</td>\n",
       "      <td>1</td>\n",
       "    </tr>\n",
       "    <tr>\n",
       "      <th>3</th>\n",
       "      <td>6</td>\n",
       "      <td>13,000 people receive #wildfires evacuation or...</td>\n",
       "      <td>1</td>\n",
       "    </tr>\n",
       "    <tr>\n",
       "      <th>4</th>\n",
       "      <td>7</td>\n",
       "      <td>Just got sent this photo from Ruby #Alaska as ...</td>\n",
       "      <td>1</td>\n",
       "    </tr>\n",
       "  </tbody>\n",
       "</table>\n",
       "</div>"
      ],
      "text/plain": [
       "   id                                               text  target\n",
       "0   1  Our Deeds are the Reason of this #earthquake M...       1\n",
       "1   4             Forest fire near La Ronge Sask. Canada       1\n",
       "2   5  All residents asked to 'shelter in place' are ...       1\n",
       "3   6  13,000 people receive #wildfires evacuation or...       1\n",
       "4   7  Just got sent this photo from Ruby #Alaska as ...       1"
      ]
     },
     "execution_count": 264,
     "metadata": {},
     "output_type": "execute_result"
    }
   ],
   "source": [
    "trainData.head()"
   ]
  },
  {
   "cell_type": "code",
   "execution_count": 265,
   "metadata": {},
   "outputs": [
    {
     "data": {
      "text/html": [
       "<div>\n",
       "<style scoped>\n",
       "    .dataframe tbody tr th:only-of-type {\n",
       "        vertical-align: middle;\n",
       "    }\n",
       "\n",
       "    .dataframe tbody tr th {\n",
       "        vertical-align: top;\n",
       "    }\n",
       "\n",
       "    .dataframe thead th {\n",
       "        text-align: right;\n",
       "    }\n",
       "</style>\n",
       "<table border=\"1\" class=\"dataframe\">\n",
       "  <thead>\n",
       "    <tr style=\"text-align: right;\">\n",
       "      <th></th>\n",
       "      <th>id</th>\n",
       "      <th>text</th>\n",
       "    </tr>\n",
       "  </thead>\n",
       "  <tbody>\n",
       "    <tr>\n",
       "      <th>3258</th>\n",
       "      <td>10861</td>\n",
       "      <td>EARTHQUAKE SAFETY LOS ANGELES ÛÒ SAFETY FASTE...</td>\n",
       "    </tr>\n",
       "    <tr>\n",
       "      <th>3259</th>\n",
       "      <td>10865</td>\n",
       "      <td>Storm in RI worse than last hurricane. My city...</td>\n",
       "    </tr>\n",
       "    <tr>\n",
       "      <th>3260</th>\n",
       "      <td>10868</td>\n",
       "      <td>Green Line derailment in Chicago http://t.co/U...</td>\n",
       "    </tr>\n",
       "    <tr>\n",
       "      <th>3261</th>\n",
       "      <td>10874</td>\n",
       "      <td>MEG issues Hazardous Weather Outlook (HWO) htt...</td>\n",
       "    </tr>\n",
       "    <tr>\n",
       "      <th>3262</th>\n",
       "      <td>10875</td>\n",
       "      <td>#CityofCalgary has activated its Municipal Eme...</td>\n",
       "    </tr>\n",
       "  </tbody>\n",
       "</table>\n",
       "</div>"
      ],
      "text/plain": [
       "         id                                               text\n",
       "3258  10861  EARTHQUAKE SAFETY LOS ANGELES ÛÒ SAFETY FASTE...\n",
       "3259  10865  Storm in RI worse than last hurricane. My city...\n",
       "3260  10868  Green Line derailment in Chicago http://t.co/U...\n",
       "3261  10874  MEG issues Hazardous Weather Outlook (HWO) htt...\n",
       "3262  10875  #CityofCalgary has activated its Municipal Eme..."
      ]
     },
     "execution_count": 265,
     "metadata": {},
     "output_type": "execute_result"
    }
   ],
   "source": [
    "testData.tail()"
   ]
  },
  {
   "cell_type": "markdown",
   "metadata": {},
   "source": [
    "## Proceso el train para obtener (word, target)\n",
    "Es una función auxiliar que cambia la estructura del dataset de entrenamiendo de (id, text, target) a (word, target)."
   ]
  },
  {
   "cell_type": "code",
   "execution_count": 266,
   "metadata": {},
   "outputs": [],
   "source": [
    "# Separo los textos de los tweets en palabras.\n",
    "def splitTrainIntoWords(dataframe):\n",
    "    splitted = pd.DataFrame(dataframe['text'].str.split(' ').to_list(), index=dataframe['id']).stack()\n",
    "    \n",
    "    # Reestablezco el id.\n",
    "    splitted = splitted.reset_index([0, 'id'])\n",
    "\n",
    "    # Le pongo a las segunda columna un nombre descriptivo.\n",
    "    splitted.columns = ['id','word']\n",
    "\n",
    "    # Agrego la columna target haciendo un merge con el set original.\n",
    "    splitted = splitted.merge(dataframe, left_on = 'id', right_on = 'id', how = 'left')\n",
    "\n",
    "    # Elimino la columna text y id.\n",
    "    del splitted['text']\n",
    "    del splitted['id']\n",
    "\n",
    "    return splitted"
   ]
  },
  {
   "cell_type": "markdown",
   "metadata": {},
   "source": [
    "## Proceso el test set para obtener (id, word)\n",
    "Es una función auxiliar que cambia la estructura del dataset de test de (id, text) a (id, word)."
   ]
  },
  {
   "cell_type": "code",
   "execution_count": 267,
   "metadata": {},
   "outputs": [],
   "source": [
    "# Separo los textos de los tweets en palabras.\n",
    "def splitTestIntoWords(dataframe):\n",
    "    # Creo un nuevo dataframe con las palabras separadas.\n",
    "    splitted = pd.DataFrame(dataframe['text'].str.split(' ').to_list(), index=dataframe['id']).stack()\n",
    "    \n",
    "    # Reestablezco el id.\n",
    "    splitted = splitted.reset_index([0, 'id'])\n",
    "\n",
    "    # Le pongo a las segunda columna un nombre descriptivo.\n",
    "    splitted.columns = ['id','word']\n",
    "\n",
    "    return splitted"
   ]
  },
  {
   "cell_type": "markdown",
   "metadata": {},
   "source": [
    "## Función de entrenamiento\n",
    "Esta función toma el set de entrenamiento del formato (word, target) con el cuál se va a realizar el entrenamiento modelo y devuelve un dataframe entrenado del formato (word, target)."
   ]
  },
  {
   "cell_type": "code",
   "execution_count": 268,
   "metadata": {},
   "outputs": [],
   "source": [
    "def entrenarModelo(train):    \n",
    "    # Agrupo las palabras y hago un promedio del target.\n",
    "    trainedDF = train.groupby('word').mean().reset_index()\n",
    "    \n",
    "    return trainedDF"
   ]
  },
  {
   "cell_type": "markdown",
   "metadata": {},
   "source": [
    "## Función de predicción\n",
    "Esta función realiza las predicciones.\n",
    "\n",
    "Recibe un set entrenado con el formaro (word, target) y un set de test con el formato (id, word) sobre el cuál realiza las predicciones.\n",
    "\n",
    "Devuelve un dataframe con las predicciones del tipo (id, predicción)."
   ]
  },
  {
   "cell_type": "code",
   "execution_count": 269,
   "metadata": {},
   "outputs": [],
   "source": [
    "def predecir(trained, test):    \n",
    "    # Mergeo el valor del promedio del target de las palabras en este data set.\n",
    "    testDF = test.merge(trained, left_on = 'word', right_on = 'word', how = 'left')\n",
    "    \n",
    "    # Elimino la columna de las palabras.\n",
    "    del testDF['word']\n",
    "    \n",
    "    # Agrupo por id.\n",
    "    testDF = testDF.groupby('id').mean().reset_index()\n",
    "    \n",
    "    # Reestablezco el id.\n",
    "    testDF = testDF.set_index(['id'])\n",
    "    \n",
    "    # Paso los valores a 1 y 0 dependiendo si target > 0.5 o < 0.5.\n",
    "    testDF['target'] = testDF['target'].apply(lambda x: 1 if x >= 0.5 else 0)\n",
    "    \n",
    "    return testDF"
   ]
  },
  {
   "cell_type": "markdown",
   "metadata": {},
   "source": [
    "## Función para crear submit.\n",
    "Toma un set de datos de train con formaro (word, target), lo entrena, realiza las predicciones sobre el archivo test con formato (id, word) y guarda un archivo."
   ]
  },
  {
   "cell_type": "code",
   "execution_count": 270,
   "metadata": {},
   "outputs": [],
   "source": [
    "def entrenarPredecirYGuardar(train, test, csvFileName):\n",
    "    trained = entrenarModelo(train)\n",
    "    predicciones = predecir(trained, test)    \n",
    "    predicciones.to_csv(csvFileName)"
   ]
  },
  {
   "cell_type": "markdown",
   "metadata": {},
   "source": [
    "# Creo funciones que van a ser las que se aplican a los datasets para realizar la optimización.\n",
    "\n",
    "Para mejorar en cada iteración el resultado se crean diferentes funciones que hacen los siguientes cambios:\n",
    "\n",
    "1 - Se pasan todas las palabras a lowercase.\n",
    "\n",
    "2 - Se toman los links como si fueran una sola palabra 'http'.\n",
    "\n",
    "3 - Se quitan los '\\n' encontrados en los textos.\n",
    "\n",
    "4 - Se quitan los stop words.\n",
    "\n",
    "5 - Se quitan de las palabras todos los caracteres que no sean letras y se eliminan las palabras vacías.\n",
    "\n",
    "En cada paso se hará un nuevo submit verificando los resultados obtenidos.\n",
    "\n",
    "## Nomenclatura de los archivos\n",
    "Se tienen 5 funcionas a aplicar a los datasets, entonces los archivos se nombraran como test-xxxxx.csv.\n",
    "\n",
    "Si solo se aplica la función 1 entonces el archivo sera test-00001.csv, si no se aplica ninguna función será test-00000.csv y si se aplican la función 1 y la función 3 será test-00101.csv."
   ]
  },
  {
   "cell_type": "markdown",
   "metadata": {},
   "source": [
    "## Función para pasar las palabras a minúsculas\n",
    "Recibe un set de datos con una columna 'word' y devuelve un nuevo set con las palabras en minúscula."
   ]
  },
  {
   "cell_type": "code",
   "execution_count": 271,
   "metadata": {},
   "outputs": [],
   "source": [
    "def palabrasALowercase(trained):\n",
    "    lowercasedDF = trained.copy()\n",
    "    \n",
    "    # Paso las palabras a minúsculas.\n",
    "    lowercasedDF['word'] = lowercasedDF['word'].str.lower()\n",
    "    \n",
    "    return lowercasedDF"
   ]
  },
  {
   "cell_type": "markdown",
   "metadata": {},
   "source": [
    "## Función para tomar los links como una única palabra 'http'\n",
    "Recibe un set de datos con la columna 'word' y devuelve un nuevo set con los links como si fueran una misma palabra 'http'."
   ]
  },
  {
   "cell_type": "code",
   "execution_count": 272,
   "metadata": {},
   "outputs": [],
   "source": [
    "def linksComoHttp(trained):\n",
    "    httpDF = trained.copy()\n",
    "    \n",
    "    # Todos los links pasan a ser la palabra 'http'.\n",
    "    httpDF.loc[httpDF['word'].str.contains('http', case=True), 'word'] = 'http'\n",
    "    \n",
    "    return httpDF"
   ]
  },
  {
   "cell_type": "markdown",
   "metadata": {},
   "source": [
    "## Función que quita los saltos de línea '\\n'\n",
    "Recibe un set de datos entrenados, un set de test del formato (word, target) o (id, word) y un train set o test set con los la etiquera '\\n' eliminada."
   ]
  },
  {
   "cell_type": "code",
   "execution_count": 273,
   "metadata": {},
   "outputs": [],
   "source": [
    "def eliminarEtiquetasTrain(train):\n",
    "    trainDF = train.copy()\n",
    "    trainDF = pd.DataFrame(trainDF['word'].str.split('\\n').to_list(), index=trainDF['target']).stack()\n",
    "    trainDF = trainDF.reset_index([0, 'target'])\n",
    "    trainDF.columns = ['target','word']\n",
    "    trainDF.reset_index()\n",
    "    \n",
    "    return trainDF\n",
    "\n",
    "def eliminarEtiquetasTest(test):\n",
    "    testDF = test.copy()\n",
    "    testDF = pd.DataFrame(testDF['word'].str.split('\\n').to_list(), index=testDF['id']).stack()\n",
    "    testDF = testDF.reset_index([0, 'id'])\n",
    "    testDF.columns = ['id','word']\n",
    "    testDF.reset_index()\n",
    "    \n",
    "    return testDF"
   ]
  },
  {
   "cell_type": "markdown",
   "metadata": {},
   "source": [
    "## Función que quita todos los caracteres que no sean letras de las palabras.\n",
    "Dado un dataframe con la columna 'word', elimina caracteres especiales y borra todas las palabras que sean vacías."
   ]
  },
  {
   "cell_type": "code",
   "execution_count": 274,
   "metadata": {},
   "outputs": [],
   "source": [
    "def eliminarCharsEspeciales(dataframe): \n",
    "    sanDF = dataframe.copy()\n",
    "    sanDF = sanDF[sanDF['word'].str.isspace() == False]\n",
    "    sanDF['word'].replace(regex=True, inplace=True, to_replace='[^A-Za-z]', value=r'')\n",
    "    sanDF = sanDF[sanDF['word'].str.strip().astype(bool)]\n",
    "    \n",
    "    return sanDF"
   ]
  },
  {
   "cell_type": "markdown",
   "metadata": {},
   "source": [
    "## Función para quitar las stop words.\n",
    "Dado un dataframe con la columna 'word', elimina todos los stop words."
   ]
  },
  {
   "cell_type": "code",
   "execution_count": 275,
   "metadata": {},
   "outputs": [],
   "source": [
    "def eliminarStopWords(dataframe):\n",
    "    stops = stopwords.words('english')\n",
    "    sinStops = dataframe.copy()\n",
    "    sinStops = sinStops[~sinStops['word'].isin(stops)]\n",
    "    return sinStops"
   ]
  },
  {
   "cell_type": "markdown",
   "metadata": {},
   "source": [
    "# Submits.\n",
    "A continuación se realizan los submits de prueba."
   ]
  },
  {
   "cell_type": "code",
   "execution_count": 276,
   "metadata": {},
   "outputs": [],
   "source": [
    "# 00000.\n",
    "trainSplitted = splitTrainIntoWords(trainData)\n",
    "testSplitted = splitTestIntoWords(testData)\n",
    "entrenarPredecirYGuardar(trainSplitted, testSplitted, 'test-00000.csv')"
   ]
  },
  {
   "cell_type": "code",
   "execution_count": 277,
   "metadata": {},
   "outputs": [],
   "source": [
    "# 00001.\n",
    "# Se aplica lowercase a las palabras de los dataframes.\n",
    "trainLowercased = palabrasALowercase(trainSplitted)\n",
    "testLowercase = palabrasALowercase(testSplitted)\n",
    "entrenarPredecirYGuardar(trainLowercased, testLowercase, 'test-00001.csv')"
   ]
  },
  {
   "cell_type": "code",
   "execution_count": 278,
   "metadata": {},
   "outputs": [],
   "source": [
    "# 00010.\n",
    "# Se toman los links como la palabra 'http'.\n",
    "trainHTTP = linksComoHttp(trainSplitted)\n",
    "testHTTP = linksComoHttp(testSplitted)\n",
    "entrenarPredecirYGuardar(trainHTTP, testHTTP, 'test-00010.csv')"
   ]
  },
  {
   "cell_type": "code",
   "execution_count": 279,
   "metadata": {},
   "outputs": [],
   "source": [
    "# 00100.\n",
    "# Se eliminan las etiquetas como '\\n'.\n",
    "trainSinEtiquetas = eliminarEtiquetasTrain(trainSplitted)\n",
    "testSinEtiquetas = eliminarEtiquetasTest(testSplitted)\n",
    "entrenarPredecirYGuardar(trainSinEtiquetas, testSinEtiquetas, 'test-00100.csv')"
   ]
  },
  {
   "cell_type": "code",
   "execution_count": 280,
   "metadata": {},
   "outputs": [],
   "source": [
    "# 01000.\n",
    "# Se eliminan las stopwords.\n",
    "trainStops = eliminarStopWords(trainSplitted)\n",
    "testStops = eliminarStopWords(testSplitted)\n",
    "\n",
    "entrenarPredecirYGuardar(trainStops, testStops, 'test-01000.csv')"
   ]
  },
  {
   "cell_type": "code",
   "execution_count": 281,
   "metadata": {},
   "outputs": [],
   "source": [
    "# 10000.\n",
    "# Se eliminan los caracteres especiales y las palabras vacías..\n",
    "trainSan = eliminarCharsEspeciales(trainSplitted)\n",
    "testSan = eliminarCharsEspeciales(testSplitted)\n",
    "entrenarPredecirYGuardar(trainSan, testSan, 'test-10000.csv')"
   ]
  },
  {
   "cell_type": "code",
   "execution_count": 282,
   "metadata": {},
   "outputs": [
    {
     "name": "stdout",
     "output_type": "stream",
     "text": [
      "----------------\n",
      "[0, 0, 0, 0, 0]\n",
      "nombre del archivo: 00000\n",
      "----------------\n",
      "[0, 0, 0, 0, 1]\n",
      "Aplico función 1\n",
      "nombre del archivo: 00001\n",
      "----------------\n",
      "[0, 0, 0, 1, 0]\n",
      "Aplico función 2\n",
      "nombre del archivo: 00010\n",
      "----------------\n",
      "[0, 0, 0, 1, 1]\n",
      "Aplico función 1\n",
      "Aplico función 2\n",
      "nombre del archivo: 00011\n",
      "----------------\n",
      "[0, 0, 1, 0, 0]\n",
      "Aplico función 3\n",
      "nombre del archivo: 00100\n",
      "----------------\n",
      "[0, 0, 1, 0, 1]\n",
      "Aplico función 1\n",
      "Aplico función 3\n",
      "nombre del archivo: 00101\n",
      "----------------\n",
      "[0, 0, 1, 1, 0]\n",
      "Aplico función 2\n",
      "Aplico función 3\n",
      "nombre del archivo: 00110\n",
      "----------------\n",
      "[0, 0, 1, 1, 1]\n",
      "Aplico función 1\n",
      "Aplico función 2\n",
      "Aplico función 3\n",
      "nombre del archivo: 00111\n",
      "----------------\n",
      "[0, 1, 0, 0, 0]\n",
      "Aplico función 4\n",
      "nombre del archivo: 01000\n",
      "----------------\n",
      "[0, 1, 0, 0, 1]\n",
      "Aplico función 1\n",
      "Aplico función 4\n",
      "nombre del archivo: 01001\n",
      "----------------\n",
      "[0, 1, 0, 1, 0]\n",
      "Aplico función 2\n",
      "Aplico función 4\n",
      "nombre del archivo: 01010\n",
      "----------------\n",
      "[0, 1, 0, 1, 1]\n",
      "Aplico función 1\n",
      "Aplico función 2\n",
      "Aplico función 4\n",
      "nombre del archivo: 01011\n",
      "----------------\n",
      "[0, 1, 1, 0, 0]\n",
      "Aplico función 3\n",
      "Aplico función 4\n",
      "nombre del archivo: 01100\n",
      "----------------\n",
      "[0, 1, 1, 0, 1]\n",
      "Aplico función 1\n",
      "Aplico función 3\n",
      "Aplico función 4\n",
      "nombre del archivo: 01101\n",
      "----------------\n",
      "[0, 1, 1, 1, 0]\n",
      "Aplico función 2\n",
      "Aplico función 3\n",
      "Aplico función 4\n",
      "nombre del archivo: 01110\n",
      "----------------\n",
      "[0, 1, 1, 1, 1]\n",
      "Aplico función 1\n",
      "Aplico función 2\n",
      "Aplico función 3\n",
      "Aplico función 4\n",
      "nombre del archivo: 01111\n",
      "----------------\n",
      "[1, 0, 0, 0, 0]\n",
      "Aplico función 5\n",
      "nombre del archivo: 10000\n",
      "----------------\n",
      "[1, 0, 0, 0, 1]\n",
      "Aplico función 1\n",
      "Aplico función 5\n",
      "nombre del archivo: 10001\n",
      "----------------\n",
      "[1, 0, 0, 1, 0]\n",
      "Aplico función 2\n",
      "Aplico función 5\n",
      "nombre del archivo: 10010\n",
      "----------------\n",
      "[1, 0, 0, 1, 1]\n",
      "Aplico función 1\n",
      "Aplico función 2\n",
      "Aplico función 5\n",
      "nombre del archivo: 10011\n",
      "----------------\n",
      "[1, 0, 1, 0, 0]\n",
      "Aplico función 3\n",
      "Aplico función 5\n",
      "nombre del archivo: 10100\n",
      "----------------\n",
      "[1, 0, 1, 0, 1]\n",
      "Aplico función 1\n",
      "Aplico función 3\n",
      "Aplico función 5\n",
      "nombre del archivo: 10101\n",
      "----------------\n",
      "[1, 0, 1, 1, 0]\n",
      "Aplico función 2\n",
      "Aplico función 3\n",
      "Aplico función 5\n",
      "nombre del archivo: 10110\n",
      "----------------\n",
      "[1, 0, 1, 1, 1]\n",
      "Aplico función 1\n",
      "Aplico función 2\n",
      "Aplico función 3\n",
      "Aplico función 5\n",
      "nombre del archivo: 10111\n",
      "----------------\n",
      "[1, 1, 0, 0, 0]\n",
      "Aplico función 4\n",
      "Aplico función 5\n",
      "nombre del archivo: 11000\n",
      "----------------\n",
      "[1, 1, 0, 0, 1]\n",
      "Aplico función 1\n",
      "Aplico función 4\n",
      "Aplico función 5\n",
      "nombre del archivo: 11001\n",
      "----------------\n",
      "[1, 1, 0, 1, 0]\n",
      "Aplico función 2\n",
      "Aplico función 4\n",
      "Aplico función 5\n",
      "nombre del archivo: 11010\n",
      "----------------\n",
      "[1, 1, 0, 1, 1]\n",
      "Aplico función 1\n",
      "Aplico función 2\n",
      "Aplico función 4\n",
      "Aplico función 5\n",
      "nombre del archivo: 11011\n",
      "----------------\n",
      "[1, 1, 1, 0, 0]\n",
      "Aplico función 3\n",
      "Aplico función 4\n",
      "Aplico función 5\n",
      "nombre del archivo: 11100\n",
      "----------------\n",
      "[1, 1, 1, 0, 1]\n",
      "Aplico función 1\n",
      "Aplico función 3\n",
      "Aplico función 4\n",
      "Aplico función 5\n",
      "nombre del archivo: 11101\n",
      "----------------\n",
      "[1, 1, 1, 1, 0]\n",
      "Aplico función 2\n",
      "Aplico función 3\n",
      "Aplico función 4\n",
      "Aplico función 5\n",
      "nombre del archivo: 11110\n",
      "----------------\n",
      "[1, 1, 1, 1, 1]\n",
      "Aplico función 1\n",
      "Aplico función 2\n",
      "Aplico función 3\n",
      "Aplico función 4\n",
      "Aplico función 5\n",
      "nombre del archivo: 11111\n"
     ]
    }
   ],
   "source": [
    "# Grid search sobre todas las posibilidades para ver cuál ajusta mejor.\n",
    "cantidadDeFunciones = 5\n",
    "\n",
    "for number in range(pow(2, cantidadDeFunciones)):\n",
    "    bits = [(number >> bit) & 1 for bit in range(cantidadDeFunciones - 1, -1, -1)]\n",
    "    \n",
    "    print('----------------')\n",
    "    print(bits)\n",
    "    \n",
    "    if bits[4]:\n",
    "        print('Aplico función 1')\n",
    "        \n",
    "    if bits[3]:\n",
    "        print('Aplico función 2')\n",
    "        \n",
    "    if bits[2]:\n",
    "        print('Aplico función 3')\n",
    "        \n",
    "    if bits[1]:\n",
    "        print('Aplico función 4')\n",
    "        \n",
    "    if bits[0]:\n",
    "        print('Aplico función 5')\n",
    "    \n",
    "    nombreArchivo = \"\".join([str(a) for a in bits])\n",
    "    print('nombre del archivo: {}'.format(nombreArchivo))"
   ]
  },
  {
   "cell_type": "code",
   "execution_count": null,
   "metadata": {},
   "outputs": [],
   "source": []
  },
  {
   "cell_type": "code",
   "execution_count": 283,
   "metadata": {},
   "outputs": [
    {
     "data": {
      "text/html": [
       "<div>\n",
       "<style scoped>\n",
       "    .dataframe tbody tr th:only-of-type {\n",
       "        vertical-align: middle;\n",
       "    }\n",
       "\n",
       "    .dataframe tbody tr th {\n",
       "        vertical-align: top;\n",
       "    }\n",
       "\n",
       "    .dataframe thead th {\n",
       "        text-align: right;\n",
       "    }\n",
       "</style>\n",
       "<table border=\"1\" class=\"dataframe\">\n",
       "  <thead>\n",
       "    <tr style=\"text-align: right;\">\n",
       "      <th></th>\n",
       "      <th>id</th>\n",
       "      <th>text</th>\n",
       "      <th>target</th>\n",
       "    </tr>\n",
       "  </thead>\n",
       "  <tbody>\n",
       "    <tr>\n",
       "      <th>0</th>\n",
       "      <td>1</td>\n",
       "      <td>Our Deeds are the Reason of this #earthquake M...</td>\n",
       "      <td>1</td>\n",
       "    </tr>\n",
       "    <tr>\n",
       "      <th>1</th>\n",
       "      <td>4</td>\n",
       "      <td>Forest fire near La Ronge Sask. Canada</td>\n",
       "      <td>1</td>\n",
       "    </tr>\n",
       "    <tr>\n",
       "      <th>2</th>\n",
       "      <td>5</td>\n",
       "      <td>All residents asked to 'shelter in place' are ...</td>\n",
       "      <td>1</td>\n",
       "    </tr>\n",
       "    <tr>\n",
       "      <th>3</th>\n",
       "      <td>6</td>\n",
       "      <td>13,000 people receive #wildfires evacuation or...</td>\n",
       "      <td>1</td>\n",
       "    </tr>\n",
       "    <tr>\n",
       "      <th>4</th>\n",
       "      <td>7</td>\n",
       "      <td>Just got sent this photo from Ruby #Alaska as ...</td>\n",
       "      <td>1</td>\n",
       "    </tr>\n",
       "  </tbody>\n",
       "</table>\n",
       "</div>"
      ],
      "text/plain": [
       "   id                                               text  target\n",
       "0   1  Our Deeds are the Reason of this #earthquake M...       1\n",
       "1   4             Forest fire near La Ronge Sask. Canada       1\n",
       "2   5  All residents asked to 'shelter in place' are ...       1\n",
       "3   6  13,000 people receive #wildfires evacuation or...       1\n",
       "4   7  Just got sent this photo from Ruby #Alaska as ...       1"
      ]
     },
     "execution_count": 283,
     "metadata": {},
     "output_type": "execute_result"
    }
   ],
   "source": [
    "trainData.head()"
   ]
  },
  {
   "cell_type": "code",
   "execution_count": 284,
   "metadata": {},
   "outputs": [
    {
     "data": {
      "text/html": [
       "<div>\n",
       "<style scoped>\n",
       "    .dataframe tbody tr th:only-of-type {\n",
       "        vertical-align: middle;\n",
       "    }\n",
       "\n",
       "    .dataframe tbody tr th {\n",
       "        vertical-align: top;\n",
       "    }\n",
       "\n",
       "    .dataframe thead th {\n",
       "        text-align: right;\n",
       "    }\n",
       "</style>\n",
       "<table border=\"1\" class=\"dataframe\">\n",
       "  <thead>\n",
       "    <tr style=\"text-align: right;\">\n",
       "      <th></th>\n",
       "      <th>id</th>\n",
       "      <th>text</th>\n",
       "    </tr>\n",
       "  </thead>\n",
       "  <tbody>\n",
       "    <tr>\n",
       "      <th>0</th>\n",
       "      <td>0</td>\n",
       "      <td>Just happened a terrible car crash</td>\n",
       "    </tr>\n",
       "    <tr>\n",
       "      <th>1</th>\n",
       "      <td>2</td>\n",
       "      <td>Heard about #earthquake is different cities, s...</td>\n",
       "    </tr>\n",
       "    <tr>\n",
       "      <th>2</th>\n",
       "      <td>3</td>\n",
       "      <td>there is a forest fire at spot pond, geese are...</td>\n",
       "    </tr>\n",
       "    <tr>\n",
       "      <th>3</th>\n",
       "      <td>9</td>\n",
       "      <td>Apocalypse lighting. #Spokane #wildfires</td>\n",
       "    </tr>\n",
       "    <tr>\n",
       "      <th>4</th>\n",
       "      <td>11</td>\n",
       "      <td>Typhoon Soudelor kills 28 in China and Taiwan</td>\n",
       "    </tr>\n",
       "  </tbody>\n",
       "</table>\n",
       "</div>"
      ],
      "text/plain": [
       "   id                                               text\n",
       "0   0                 Just happened a terrible car crash\n",
       "1   2  Heard about #earthquake is different cities, s...\n",
       "2   3  there is a forest fire at spot pond, geese are...\n",
       "3   9           Apocalypse lighting. #Spokane #wildfires\n",
       "4  11      Typhoon Soudelor kills 28 in China and Taiwan"
      ]
     },
     "execution_count": 284,
     "metadata": {},
     "output_type": "execute_result"
    }
   ],
   "source": [
    "testData.head()"
   ]
  },
  {
   "cell_type": "code",
   "execution_count": 285,
   "metadata": {},
   "outputs": [
    {
     "data": {
      "text/plain": [
       "761"
      ]
     },
     "execution_count": 285,
     "metadata": {},
     "output_type": "execute_result"
    }
   ],
   "source": [
    "endIndex = round(trainData.shape[0] * 0.1)\n",
    "#int(round(2.51*100)) \n",
    "#trainData[0: end]\n",
    "endIndex"
   ]
  },
  {
   "cell_type": "code",
   "execution_count": 286,
   "metadata": {},
   "outputs": [
    {
     "data": {
      "text/plain": [
       "id        7613\n",
       "text      7613\n",
       "target    7613\n",
       "dtype: int64"
      ]
     },
     "execution_count": 286,
     "metadata": {},
     "output_type": "execute_result"
    }
   ],
   "source": [
    "trainData.count()"
   ]
  },
  {
   "cell_type": "code",
   "execution_count": null,
   "metadata": {},
   "outputs": [],
   "source": []
  },
  {
   "cell_type": "code",
   "execution_count": null,
   "metadata": {},
   "outputs": [],
   "source": []
  },
  {
   "cell_type": "code",
   "execution_count": null,
   "metadata": {},
   "outputs": [],
   "source": []
  },
  {
   "cell_type": "code",
   "execution_count": null,
   "metadata": {},
   "outputs": [],
   "source": []
  },
  {
   "cell_type": "code",
   "execution_count": null,
   "metadata": {},
   "outputs": [],
   "source": []
  },
  {
   "cell_type": "code",
   "execution_count": null,
   "metadata": {},
   "outputs": [],
   "source": []
  },
  {
   "cell_type": "code",
   "execution_count": null,
   "metadata": {},
   "outputs": [],
   "source": []
  },
  {
   "cell_type": "code",
   "execution_count": null,
   "metadata": {},
   "outputs": [],
   "source": []
  }
 ],
 "metadata": {
  "kernelspec": {
   "display_name": "Python 3",
   "language": "python",
   "name": "python3"
  },
  "language_info": {
   "codemirror_mode": {
    "name": "ipython",
    "version": 3
   },
   "file_extension": ".py",
   "mimetype": "text/x-python",
   "name": "python",
   "nbconvert_exporter": "python",
   "pygments_lexer": "ipython3",
   "version": "3.7.6"
  }
 },
 "nbformat": 4,
 "nbformat_minor": 4
}
