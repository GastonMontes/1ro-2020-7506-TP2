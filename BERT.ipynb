{
  "nbformat": 4,
  "nbformat_minor": 0,
  "metadata": {
    "jupytext": {
      "formats": "ipynb,py"
    },
    "kernelspec": {
      "display_name": "Python 3",
      "language": "python",
      "name": "python3"
    },
    "language_info": {
      "codemirror_mode": {
        "name": "ipython",
        "version": 3
      },
      "file_extension": ".py",
      "mimetype": "text/x-python",
      "name": "python",
      "nbconvert_exporter": "python",
      "pygments_lexer": "ipython3",
      "version": "3.7.6"
    },
    "colab": {
      "name": "BERT.ipynb",
      "provenance": [],
      "toc_visible": true
    }
  },
  "cells": [
    {
      "cell_type": "code",
      "metadata": {
        "id": "-JxTayTS2TYl",
        "colab_type": "code",
        "colab": {
          "base_uri": "https://localhost:8080/",
          "height": 627
        },
        "outputId": "85e86d25-8e65-45e7-a366-0a1ba766363d"
      },
      "source": [
        "!pip install transformers"
      ],
      "execution_count": 2,
      "outputs": [
        {
          "output_type": "stream",
          "text": [
            "Collecting transformers\n",
            "\u001b[?25l  Downloading https://files.pythonhosted.org/packages/27/3c/91ed8f5c4e7ef3227b4119200fc0ed4b4fd965b1f0172021c25701087825/transformers-3.0.2-py3-none-any.whl (769kB)\n",
            "\u001b[K     |████████████████████████████████| 778kB 2.8MB/s \n",
            "\u001b[?25hRequirement already satisfied: regex!=2019.12.17 in /usr/local/lib/python3.6/dist-packages (from transformers) (2019.12.20)\n",
            "Requirement already satisfied: numpy in /usr/local/lib/python3.6/dist-packages (from transformers) (1.18.5)\n",
            "Collecting sacremoses\n",
            "\u001b[?25l  Downloading https://files.pythonhosted.org/packages/7d/34/09d19aff26edcc8eb2a01bed8e98f13a1537005d31e95233fd48216eed10/sacremoses-0.0.43.tar.gz (883kB)\n",
            "\u001b[K     |████████████████████████████████| 890kB 14.3MB/s \n",
            "\u001b[?25hRequirement already satisfied: filelock in /usr/local/lib/python3.6/dist-packages (from transformers) (3.0.12)\n",
            "Requirement already satisfied: tqdm>=4.27 in /usr/local/lib/python3.6/dist-packages (from transformers) (4.41.1)\n",
            "Requirement already satisfied: dataclasses; python_version < \"3.7\" in /usr/local/lib/python3.6/dist-packages (from transformers) (0.7)\n",
            "Collecting sentencepiece!=0.1.92\n",
            "\u001b[?25l  Downloading https://files.pythonhosted.org/packages/d4/a4/d0a884c4300004a78cca907a6ff9a5e9fe4f090f5d95ab341c53d28cbc58/sentencepiece-0.1.91-cp36-cp36m-manylinux1_x86_64.whl (1.1MB)\n",
            "\u001b[K     |████████████████████████████████| 1.1MB 17.8MB/s \n",
            "\u001b[?25hRequirement already satisfied: requests in /usr/local/lib/python3.6/dist-packages (from transformers) (2.23.0)\n",
            "Requirement already satisfied: packaging in /usr/local/lib/python3.6/dist-packages (from transformers) (20.4)\n",
            "Collecting tokenizers==0.8.1.rc1\n",
            "\u001b[?25l  Downloading https://files.pythonhosted.org/packages/40/d0/30d5f8d221a0ed981a186c8eb986ce1c94e3a6e87f994eae9f4aa5250217/tokenizers-0.8.1rc1-cp36-cp36m-manylinux1_x86_64.whl (3.0MB)\n",
            "\u001b[K     |████████████████████████████████| 3.0MB 26.5MB/s \n",
            "\u001b[?25hRequirement already satisfied: six in /usr/local/lib/python3.6/dist-packages (from sacremoses->transformers) (1.15.0)\n",
            "Requirement already satisfied: click in /usr/local/lib/python3.6/dist-packages (from sacremoses->transformers) (7.1.2)\n",
            "Requirement already satisfied: joblib in /usr/local/lib/python3.6/dist-packages (from sacremoses->transformers) (0.16.0)\n",
            "Requirement already satisfied: certifi>=2017.4.17 in /usr/local/lib/python3.6/dist-packages (from requests->transformers) (2020.6.20)\n",
            "Requirement already satisfied: idna<3,>=2.5 in /usr/local/lib/python3.6/dist-packages (from requests->transformers) (2.10)\n",
            "Requirement already satisfied: chardet<4,>=3.0.2 in /usr/local/lib/python3.6/dist-packages (from requests->transformers) (3.0.4)\n",
            "Requirement already satisfied: urllib3!=1.25.0,!=1.25.1,<1.26,>=1.21.1 in /usr/local/lib/python3.6/dist-packages (from requests->transformers) (1.24.3)\n",
            "Requirement already satisfied: pyparsing>=2.0.2 in /usr/local/lib/python3.6/dist-packages (from packaging->transformers) (2.4.7)\n",
            "Building wheels for collected packages: sacremoses\n",
            "  Building wheel for sacremoses (setup.py) ... \u001b[?25l\u001b[?25hdone\n",
            "  Created wheel for sacremoses: filename=sacremoses-0.0.43-cp36-none-any.whl size=893260 sha256=9cb55cbc0acc780a39d9d4b1bd2f2f4dbe520f7e813654087640ebd3333a3bc1\n",
            "  Stored in directory: /root/.cache/pip/wheels/29/3c/fd/7ce5c3f0666dab31a50123635e6fb5e19ceb42ce38d4e58f45\n",
            "Successfully built sacremoses\n",
            "Installing collected packages: sacremoses, sentencepiece, tokenizers, transformers\n",
            "Successfully installed sacremoses-0.0.43 sentencepiece-0.1.91 tokenizers-0.8.1rc1 transformers-3.0.2\n"
          ],
          "name": "stdout"
        }
      ]
    },
    {
      "cell_type": "code",
      "metadata": {
        "id": "U5vnU-_g1ZiV",
        "colab_type": "code",
        "colab": {}
      },
      "source": [
        "from sklearn.model_selection import cross_val_score\n",
        "from sklearn.model_selection import ShuffleSplit\n",
        "from sklearn.metrics import confusion_matrix\n",
        "from sklearn.metrics import f1_score\n",
        "import torch\n",
        "import transformers as ppb # pytorch transformers\n",
        "from sklearn.linear_model import LogisticRegression\n",
        "from sklearn.model_selection import cross_val_score\n",
        "from sklearn.model_selection import train_test_split\n",
        "import pandas as pd\n",
        "import numpy as np"
      ],
      "execution_count": 1,
      "outputs": []
    },
    {
      "cell_type": "markdown",
      "metadata": {
        "id": "LGGAyJZY1Zik",
        "colab_type": "text"
      },
      "source": [
        "### IMPORTANTE: correr el archivo Data Processing.ipynb que se encuentra en la carpeta Data/ antes de leer los .csv"
      ]
    },
    {
      "cell_type": "code",
      "metadata": {
        "id": "52aY32rg1Zim",
        "colab_type": "code",
        "colab": {
          "base_uri": "https://localhost:8080/",
          "height": 34
        },
        "outputId": "79568fec-5e56-489f-ea2c-3da67ed1a27f"
      },
      "source": [
        "train = pd.read_csv(\"Data/train_processed.csv\")\n",
        "test = pd.read_csv(\"Data/test_processed.csv\")\n",
        "sub_sample = pd.read_csv(\"Data/sample_submission.csv\")\n",
        "\n",
        "print (train.shape, test.shape, sub_sample.shape)"
      ],
      "execution_count": 2,
      "outputs": [
        {
          "output_type": "stream",
          "text": [
            "(7613, 22) (3263, 21) (3263, 2)\n"
          ],
          "name": "stdout"
        }
      ]
    },
    {
      "cell_type": "markdown",
      "metadata": {
        "id": "r4WeWhYm1Zi1",
        "colab_type": "text"
      },
      "source": [
        "## BERT"
      ]
    },
    {
      "cell_type": "markdown",
      "metadata": {
        "id": "K4bD1izl1Zi3",
        "colab_type": "text"
      },
      "source": [
        "Bidirectional Encoder Representations from Transformers, es una técnica de Natural Language Processing basada en pre-entrenar a un transformador para que entienda el contexto de las palabras para luego entrenar al modelo para realizar una predicción de clasificación.\n",
        "Para este análisis vamos a usar DisilBERT que es una versión pre entrenada y de código abierto desarrollada por el equipo de HuggingFace."
      ]
    },
    {
      "cell_type": "code",
      "metadata": {
        "id": "wkBBsyxg1Zi5",
        "colab_type": "code",
        "colab": {}
      },
      "source": [
        "y_train = train.target\n",
        "\n",
        "model_class, tokenizer_class, pretrained_weights = (ppb.DistilBertModel, ppb.DistilBertTokenizer, 'distilbert-base-uncased')\n",
        "\n",
        "\n",
        "# Load pretrained model/tokenizer\n",
        "tokenizer = tokenizer_class.from_pretrained(pretrained_weights)\n",
        "model = model_class.from_pretrained(pretrained_weights)"
      ],
      "execution_count": 3,
      "outputs": []
    },
    {
      "cell_type": "code",
      "metadata": {
        "id": "f5fojPr_71-R",
        "colab_type": "code",
        "colab": {
          "base_uri": "https://localhost:8080/",
          "height": 156
        },
        "outputId": "71c7da87-e2a8-4b51-be41-1d2cdcf873fa"
      },
      "source": [
        "train['text'].values"
      ],
      "execution_count": 9,
      "outputs": [
        {
          "output_type": "execute_result",
          "data": {
            "text/plain": [
              "array(['Our Deeds are the Reason of this #earthquake May ALLAH Forgive us all',\n",
              "       'Forest fire near La Ronge Sask. Canada',\n",
              "       \"All residents asked to 'shelter in place' are being notified by officers. No other evacuation or shelter in place orders are expected\",\n",
              "       ...,\n",
              "       'M1.94 [01:04 UTC]?5km S of Volcano Hawaii. http://t.co/zDtoyd8EbJ',\n",
              "       'Police investigating after an e-bike collided with a car in Little Portugal. E-bike rider suffered serious non-life threatening injuries.',\n",
              "       'The Latest: More Homes Razed by Northern California Wildfire - ABC News http://t.co/YmY4rSkQ3d'],\n",
              "      dtype=object)"
            ]
          },
          "metadata": {
            "tags": []
          },
          "execution_count": 9
        }
      ]
    },
    {
      "cell_type": "code",
      "metadata": {
        "id": "XbvszCpM1ZjB",
        "colab_type": "code",
        "colab": {}
      },
      "source": [
        "# convierto el texto en un token\n",
        "batch_1 = train['text'][:2000]\n",
        "tokenized = batch_1.apply((lambda x: tokenizer.encode(x, add_special_tokens=True)))\n"
      ],
      "execution_count": 5,
      "outputs": []
    },
    {
      "cell_type": "code",
      "metadata": {
        "id": "tsntu-kBIMjc",
        "colab_type": "code",
        "colab": {}
      },
      "source": [
        "# Cada tokenized es un array con un token por palabra. Ahora necesito que todas las filas tengan el mismo ancho (cantidad de columnas).\n",
        "# Así que agrego padding\n",
        "max_len = 0\n",
        "for i in tokenized.values:\n",
        "    if len(i) > max_len:\n",
        "        max_len = len(i)\n",
        "        \n",
        "padded = np.array([i + [0]*(max_len-len(i)) for i in tokenized.values])"
      ],
      "execution_count": 7,
      "outputs": []
    },
    {
      "cell_type": "markdown",
      "metadata": {
        "id": "raNvp917G5Tc",
        "colab_type": "text"
      },
      "source": [
        "# Mask\n",
        "Recién tomamos una parte del dataset para obtener tokens en base al texto agregamos paddings para que cada fila tenga la misma cantidad de columnas.\n",
        "Ahora tenemos que decirle a BERT qué celdas del dataset son padding agregados por nosotros para que los omita en la predicción.\n",
        "\n"
      ]
    },
    {
      "cell_type": "code",
      "metadata": {
        "lines_to_next_cell": 2,
        "id": "5lpJR4r41ZjK",
        "colab_type": "code",
        "colab": {
          "base_uri": "https://localhost:8080/",
          "height": 34
        },
        "outputId": "b3e30ddb-3a04-4386-d13a-1e5409b6611a"
      },
      "source": [
        "attention_mask = np.where(padded != 0, 1, 0)\n",
        "attention_mask.shape"
      ],
      "execution_count": 8,
      "outputs": [
        {
          "output_type": "execute_result",
          "data": {
            "text/plain": [
              "(2000, 81)"
            ]
          },
          "metadata": {
            "tags": []
          },
          "execution_count": 8
        }
      ]
    },
    {
      "cell_type": "code",
      "metadata": {
        "id": "guJFFfTfH1oT",
        "colab_type": "code",
        "colab": {}
      },
      "source": [
        "attention_mask = torch.tensor(attention_mask)\n",
        "input_ids = torch.tensor(padded)  \n",
        "\n",
        "with torch.no_grad():\n",
        "    last_hidden_states = model(input_ids, attention_mask=attention_mask)"
      ],
      "execution_count": 9,
      "outputs": []
    },
    {
      "cell_type": "code",
      "metadata": {
        "id": "_kI1D3W4Jufv",
        "colab_type": "code",
        "colab": {
          "base_uri": "https://localhost:8080/",
          "height": 868
        },
        "outputId": "62af5a47-94c7-437d-d28c-d022d3e36290"
      },
      "source": [
        "last_hidden_states"
      ],
      "execution_count": 11,
      "outputs": [
        {
          "output_type": "execute_result",
          "data": {
            "text/plain": [
              "(tensor([[[-0.0078,  0.2434, -0.1924,  ..., -0.0423,  0.5865,  0.0078],\n",
              "          [ 0.3320,  0.3346,  0.0207,  ..., -0.1569,  0.8014, -0.4104],\n",
              "          [ 0.5480,  0.2635,  0.1367,  ...,  0.0184,  0.0848, -0.2652],\n",
              "          ...,\n",
              "          [-0.0550,  0.2640,  0.1535,  ...,  0.1169,  0.0369, -0.1629],\n",
              "          [ 0.0152,  0.2166,  0.1225,  ...,  0.1965,  0.0519, -0.1487],\n",
              "          [-0.0369,  0.2852,  0.1945,  ...,  0.0811,  0.0711, -0.1032]],\n",
              " \n",
              "         [[-0.5075,  0.1034, -0.6453,  ..., -0.2546,  0.2126,  0.3391],\n",
              "          [ 0.4142,  0.5571, -0.3625,  ..., -0.0183,  0.3380, -0.0851],\n",
              "          [ 0.3048,  0.2969, -0.3315,  ..., -0.3804, -0.0696, -0.3818],\n",
              "          ...,\n",
              "          [ 0.0199,  0.1257, -0.2037,  ...,  0.1662, -0.1118,  0.4595],\n",
              "          [-0.1041,  0.1329, -0.2229,  ..., -0.0524, -0.0426,  0.2601],\n",
              "          [-0.0437,  0.0847, -0.2386,  ...,  0.0112, -0.1759,  0.4035]],\n",
              " \n",
              "         [[-0.1455, -0.1657,  0.2994,  ..., -0.1828,  0.0257,  0.4130],\n",
              "          [-0.1536,  0.0443,  0.5446,  ..., -0.1180,  0.4370, -0.2231],\n",
              "          [ 0.2140, -0.0213,  0.3432,  ..., -0.0938, -0.1427,  0.0957],\n",
              "          ...,\n",
              "          [ 0.2198,  0.0673,  0.5208,  ...,  0.0082, -0.3387, -0.1306],\n",
              "          [ 0.1164, -0.0429,  0.4003,  ...,  0.1227, -0.2265, -0.1112],\n",
              "          [-0.2114, -0.2176,  0.2213,  ...,  0.2264, -0.2134,  0.0543]],\n",
              " \n",
              "         ...,\n",
              " \n",
              "         [[-0.2506, -0.1184,  0.0774,  ..., -0.0548,  0.1533,  0.2844],\n",
              "          [ 0.2819,  0.0018,  0.4192,  ...,  0.1884,  0.1512,  0.0945],\n",
              "          [-0.2598,  0.2057,  0.3922,  ..., -0.0316,  0.3164,  0.2988],\n",
              "          ...,\n",
              "          [ 0.2123,  0.0451,  0.4068,  ...,  0.0524, -0.0325,  0.2380],\n",
              "          [-0.1729,  0.3923,  0.0503,  ...,  0.0303,  0.0820,  0.1578],\n",
              "          [ 0.0350,  0.1777,  0.0538,  ...,  0.0596,  0.0657,  0.1460]],\n",
              " \n",
              "         [[ 0.0027, -0.0309, -0.0026,  ..., -0.0255,  0.2269,  0.2454],\n",
              "          [ 0.1766,  0.5438,  0.2360,  ...,  0.1672,  0.1182, -0.5778],\n",
              "          [ 0.4268,  0.2168,  0.1454,  ..., -0.2697,  0.1061, -0.2617],\n",
              "          ...,\n",
              "          [ 0.3888, -0.0961, -0.0457,  ...,  0.2202, -0.1798,  0.2077],\n",
              "          [ 0.2946, -0.0218,  0.0486,  ...,  0.2186, -0.1043,  0.2365],\n",
              "          [ 0.3357, -0.0528,  0.0067,  ...,  0.1928, -0.1180,  0.2014]],\n",
              " \n",
              "         [[-0.0420,  0.1266,  0.0990,  ..., -0.1699,  0.2494,  0.4761],\n",
              "          [ 0.5000, -0.0275,  0.3258,  ..., -0.0203,  0.3026,  0.2481],\n",
              "          [ 0.0793, -0.0318,  0.2573,  ..., -0.1156, -0.0303, -0.0896],\n",
              "          ...,\n",
              "          [ 0.0438,  0.0069,  0.0101,  ..., -0.0471, -0.2828, -0.1307],\n",
              "          [-0.0488,  0.1310,  0.2234,  ..., -0.1114, -0.1632,  0.0180],\n",
              "          [ 0.0783, -0.0306,  0.3764,  ..., -0.0197, -0.2694,  0.0391]]]),)"
            ]
          },
          "metadata": {
            "tags": []
          },
          "execution_count": 11
        }
      ]
    },
    {
      "cell_type": "code",
      "metadata": {
        "id": "6hXq8QBYJsbW",
        "colab_type": "code",
        "colab": {
          "base_uri": "https://localhost:8080/",
          "height": 243
        },
        "outputId": "5cecf273-c3cf-47b4-c067-7aa7280ffaf7"
      },
      "source": [
        "features = last_hidden_states[0][:,0,:].numpy()\n",
        "features"
      ],
      "execution_count": 13,
      "outputs": [
        {
          "output_type": "execute_result",
          "data": {
            "text/plain": [
              "array([[-0.00779025,  0.24342766, -0.19241537, ..., -0.04230952,\n",
              "         0.58648366,  0.00777953],\n",
              "       [-0.507526  ,  0.10338616, -0.6452901 , ..., -0.2545608 ,\n",
              "         0.21263906,  0.33910495],\n",
              "       [-0.14549513, -0.16572241,  0.29940492, ..., -0.18275894,\n",
              "         0.02567799,  0.41298452],\n",
              "       ...,\n",
              "       [-0.25057685, -0.11841887,  0.0774207 , ..., -0.05480941,\n",
              "         0.15326285,  0.28441513],\n",
              "       [ 0.00270303, -0.03092067, -0.00259606, ..., -0.02553035,\n",
              "         0.22686933,  0.24538912],\n",
              "       [-0.04196359,  0.12659155,  0.09899823, ..., -0.16992418,\n",
              "         0.24939045,  0.476121  ]], dtype=float32)"
            ]
          },
          "metadata": {
            "tags": []
          },
          "execution_count": 13
        }
      ]
    },
    {
      "cell_type": "code",
      "metadata": {
        "id": "p55ifgz5KE-4",
        "colab_type": "code",
        "colab": {
          "base_uri": "https://localhost:8080/",
          "height": 225
        },
        "outputId": "a61b8526-d620-4bad-cfbc-85cea94c608e"
      },
      "source": [
        "labels = train['target'][:2000]\n",
        "labels"
      ],
      "execution_count": 16,
      "outputs": [
        {
          "output_type": "execute_result",
          "data": {
            "text/plain": [
              "0       1\n",
              "1       1\n",
              "2       1\n",
              "3       1\n",
              "4       1\n",
              "       ..\n",
              "1995    1\n",
              "1996    1\n",
              "1997    1\n",
              "1998    0\n",
              "1999    1\n",
              "Name: target, Length: 2000, dtype: int64"
            ]
          },
          "metadata": {
            "tags": []
          },
          "execution_count": 16
        }
      ]
    },
    {
      "cell_type": "code",
      "metadata": {
        "id": "aow2xIvrLPg5",
        "colab_type": "code",
        "colab": {
          "base_uri": "https://localhost:8080/",
          "height": 104
        },
        "outputId": "e5a21131-1e38-4711-9ec4-ef4310c853ce"
      },
      "source": [
        "lr_clf = LogisticRegression(max_iter=1500)\n",
        "lr_clf.fit(features, labels)"
      ],
      "execution_count": 18,
      "outputs": [
        {
          "output_type": "execute_result",
          "data": {
            "text/plain": [
              "LogisticRegression(C=1.0, class_weight=None, dual=False, fit_intercept=True,\n",
              "                   intercept_scaling=1, l1_ratio=None, max_iter=1500,\n",
              "                   multi_class='auto', n_jobs=None, penalty='l2',\n",
              "                   random_state=None, solver='lbfgs', tol=0.0001, verbose=0,\n",
              "                   warm_start=False)"
            ]
          },
          "metadata": {
            "tags": []
          },
          "execution_count": 18
        }
      ]
    },
    {
      "cell_type": "code",
      "metadata": {
        "id": "UEUFC-_mMz6V",
        "colab_type": "code",
        "colab": {
          "base_uri": "https://localhost:8080/",
          "height": 34
        },
        "outputId": "62488b4f-3b57-425e-b1d0-899cc6ca233e"
      },
      "source": [
        "test.shape"
      ],
      "execution_count": 21,
      "outputs": [
        {
          "output_type": "execute_result",
          "data": {
            "text/plain": [
              "(3263, 21)"
            ]
          },
          "metadata": {
            "tags": []
          },
          "execution_count": 21
        }
      ]
    },
    {
      "cell_type": "code",
      "metadata": {
        "id": "72edO3W_NJFI",
        "colab_type": "code",
        "colab": {}
      },
      "source": [
        "def get_features_from_texts(text, tokenizer, max_len):\n",
        "  tokenized = text.apply((lambda x: tokenizer.encode(x, add_special_tokens=True)))  # tokenize\n",
        "  padded = np.array([i + [0]*(max_len-len(i)) for i in tokenized.values])  # padding\n",
        "  attention_mask = np.where(padded != 0, 1, 0)  # mask para los paddings\n",
        "  attention_mask = torch.tensor(attention_mask)\n",
        "  input_ids = torch.tensor(padded)  \n",
        "\n",
        "\n",
        "  with torch.no_grad():\n",
        "      last_hidden_states = model(input_ids, attention_mask=attention_mask)  # obtengo los estados para obtener los features\n",
        "\n",
        "  features = last_hidden_states[0][:,0,:].numpy()\n",
        "  return features\n",
        "\n",
        "test_features = get_features_from_texts(test['text'], tokenizer, max_len)\n",
        "\n",
        "test_labels = lr_clf.predict(test_features)"
      ],
      "execution_count": null,
      "outputs": []
    },
    {
      "cell_type": "code",
      "metadata": {
        "id": "OWTiisALOT65",
        "colab_type": "code",
        "colab": {
          "base_uri": "https://localhost:8080/",
          "height": 69
        },
        "outputId": "17a4d7f4-2278-4fac-e4cd-e240a8e7a17c"
      },
      "source": [
        "pd.Series(test_labels).value_counts()"
      ],
      "execution_count": 24,
      "outputs": [
        {
          "output_type": "execute_result",
          "data": {
            "text/plain": [
              "0    2023\n",
              "1    1240\n",
              "dtype: int64"
            ]
          },
          "metadata": {
            "tags": []
          },
          "execution_count": 24
        }
      ]
    },
    {
      "cell_type": "code",
      "metadata": {
        "id": "K07TYjecLtJm",
        "colab_type": "code",
        "colab": {}
      },
      "source": [
        "# lr_clf.score(test_features, test_labels)"
      ],
      "execution_count": 32,
      "outputs": []
    },
    {
      "cell_type": "code",
      "metadata": {
        "id": "IB_Mfcx11ZjS",
        "colab_type": "code",
        "colab": {}
      },
      "source": [
        "submit = sub_sample.copy()\n",
        "submit.target = test_labels\n",
        "submit.to_csv('submit_bert.csv',index=False)"
      ],
      "execution_count": 25,
      "outputs": []
    },
    {
      "cell_type": "code",
      "metadata": {
        "id": "IFAII-kgSuiK",
        "colab_type": "code",
        "colab": {}
      },
      "source": [
        ""
      ],
      "execution_count": null,
      "outputs": []
    },
    {
      "cell_type": "code",
      "metadata": {
        "id": "cnudDKPI1ZjZ",
        "colab_type": "code",
        "colab": {
          "base_uri": "https://localhost:8080/",
          "height": 34
        },
        "outputId": "cbb3ef6f-403b-4528-ccce-25847754eb25"
      },
      "source": [
        "predictions = lr_clf.predict(features)\n",
        "# F-1 score\n",
        "print (\"Training set f1_score :\", np.round(f1_score(train['target'][0:2000], predictions),5))"
      ],
      "execution_count": 31,
      "outputs": [
        {
          "output_type": "stream",
          "text": [
            "Training set f1_score : 0.82976\n"
          ],
          "name": "stdout"
        }
      ]
    },
    {
      "cell_type": "code",
      "metadata": {
        "id": "cyDBhCKb1Zjf",
        "colab_type": "code",
        "colab": {
          "base_uri": "https://localhost:8080/",
          "height": 112
        },
        "outputId": "bfa3fa65-8c67-4eb4-8afd-1395261f756d"
      },
      "source": [
        "# Matriz de Confucion\n",
        "pd.DataFrame(confusion_matrix(train['target'][0:2000], predictions))"
      ],
      "execution_count": 28,
      "outputs": [
        {
          "output_type": "execute_result",
          "data": {
            "text/html": [
              "<div>\n",
              "<style scoped>\n",
              "    .dataframe tbody tr th:only-of-type {\n",
              "        vertical-align: middle;\n",
              "    }\n",
              "\n",
              "    .dataframe tbody tr th {\n",
              "        vertical-align: top;\n",
              "    }\n",
              "\n",
              "    .dataframe thead th {\n",
              "        text-align: right;\n",
              "    }\n",
              "</style>\n",
              "<table border=\"1\" class=\"dataframe\">\n",
              "  <thead>\n",
              "    <tr style=\"text-align: right;\">\n",
              "      <th></th>\n",
              "      <th>0</th>\n",
              "      <th>1</th>\n",
              "    </tr>\n",
              "  </thead>\n",
              "  <tbody>\n",
              "    <tr>\n",
              "      <th>0</th>\n",
              "      <td>1182</td>\n",
              "      <td>64</td>\n",
              "    </tr>\n",
              "    <tr>\n",
              "      <th>1</th>\n",
              "      <td>174</td>\n",
              "      <td>580</td>\n",
              "    </tr>\n",
              "  </tbody>\n",
              "</table>\n",
              "</div>"
            ],
            "text/plain": [
              "      0    1\n",
              "0  1182   64\n",
              "1   174  580"
            ]
          },
          "metadata": {
            "tags": []
          },
          "execution_count": 28
        }
      ]
    },
    {
      "cell_type": "markdown",
      "metadata": {
        "id": "QnsYnIn8Tn0b",
        "colab_type": "text"
      },
      "source": [
        "# Entreno usando los datos que dejé afuera por RAM"
      ]
    },
    {
      "cell_type": "code",
      "metadata": {
        "id": "Gl9GvqeITml6",
        "colab_type": "code",
        "colab": {
          "base_uri": "https://localhost:8080/",
          "height": 202
        },
        "outputId": "b5449460-ee8e-4ab5-e2a0-4a94d81a54ec"
      },
      "source": [
        "features_batch2 = get_features_from_texts(train['text'][2000:4000], tokenizer, max_len)\n",
        "labels_bacth2 = train['target'][2000:4000]\n",
        "lr_clf.fit(features_batch2, labels_bacth2)"
      ],
      "execution_count": 33,
      "outputs": [
        {
          "output_type": "error",
          "ename": "NameError",
          "evalue": "ignored",
          "traceback": [
            "\u001b[0;31m---------------------------------------------------------------------------\u001b[0m",
            "\u001b[0;31mNameError\u001b[0m                                 Traceback (most recent call last)",
            "\u001b[0;32m<ipython-input-33-5426f227c136>\u001b[0m in \u001b[0;36m<module>\u001b[0;34m()\u001b[0m\n\u001b[0;32m----> 1\u001b[0;31m \u001b[0mfeatures_batch2\u001b[0m \u001b[0;34m=\u001b[0m \u001b[0mget_features_from_texts\u001b[0m\u001b[0;34m(\u001b[0m\u001b[0mtrain\u001b[0m\u001b[0;34m[\u001b[0m\u001b[0;34m'text'\u001b[0m\u001b[0;34m]\u001b[0m\u001b[0;34m[\u001b[0m\u001b[0;36m2000\u001b[0m\u001b[0;34m:\u001b[0m\u001b[0;36m4000\u001b[0m\u001b[0;34m]\u001b[0m\u001b[0;34m,\u001b[0m \u001b[0mtokenizer\u001b[0m\u001b[0;34m,\u001b[0m \u001b[0mmax_len\u001b[0m\u001b[0;34m)\u001b[0m\u001b[0;34m\u001b[0m\u001b[0;34m\u001b[0m\u001b[0m\n\u001b[0m\u001b[1;32m      2\u001b[0m \u001b[0mlabels_bacth2\u001b[0m \u001b[0;34m=\u001b[0m \u001b[0mtrain\u001b[0m\u001b[0;34m[\u001b[0m\u001b[0;34m'target'\u001b[0m\u001b[0;34m]\u001b[0m\u001b[0;34m[\u001b[0m\u001b[0;36m2000\u001b[0m\u001b[0;34m:\u001b[0m\u001b[0;36m4000\u001b[0m\u001b[0;34m]\u001b[0m\u001b[0;34m\u001b[0m\u001b[0;34m\u001b[0m\u001b[0m\n\u001b[1;32m      3\u001b[0m \u001b[0mlr_clf\u001b[0m\u001b[0;34m.\u001b[0m\u001b[0mfit\u001b[0m\u001b[0;34m(\u001b[0m\u001b[0mfeatures_batch2\u001b[0m\u001b[0;34m,\u001b[0m \u001b[0mlabels_bacth2\u001b[0m\u001b[0;34m)\u001b[0m\u001b[0;34m\u001b[0m\u001b[0;34m\u001b[0m\u001b[0m\n",
            "\u001b[0;31mNameError\u001b[0m: name 'get_features_from_texts' is not defined"
          ]
        }
      ]
    },
    {
      "cell_type": "markdown",
      "metadata": {
        "id": "UUnoSqTWUJgx",
        "colab_type": "text"
      },
      "source": [
        "# Veo si mejoró\n"
      ]
    },
    {
      "cell_type": "code",
      "metadata": {
        "id": "pkV2qxFsUFVQ",
        "colab_type": "code",
        "colab": {}
      },
      "source": [
        "predictions = lr_clf.predict(features)\n",
        "# F-1 score\n",
        "print (\"Training set f1_score :\", np.round(f1_score(train['target'][0:2000], predictions),5))"
      ],
      "execution_count": null,
      "outputs": []
    },
    {
      "cell_type": "markdown",
      "metadata": {
        "id": "jxX-TFewUmfd",
        "colab_type": "text"
      },
      "source": [
        "# Entreno usando los datos que faltaban\n"
      ]
    },
    {
      "cell_type": "code",
      "metadata": {
        "id": "4lTBPwzPUpEo",
        "colab_type": "code",
        "colab": {}
      },
      "source": [
        "features_batch3 = get_features_from_texts(train['text'][4000:], tokenizer, max_len)\n",
        "labels_bacth3 = train['target'][4000:]\n",
        "lr_clf.fit(features_batch3, labels_bacth3)"
      ],
      "execution_count": null,
      "outputs": []
    },
    {
      "cell_type": "markdown",
      "metadata": {
        "colab_type": "text",
        "id": "pNyfif9rU23M"
      },
      "source": [
        "# Veo si mejoró\n"
      ]
    },
    {
      "cell_type": "code",
      "metadata": {
        "colab_type": "code",
        "id": "zxe0aDp9U40N",
        "colab": {}
      },
      "source": [
        "predictions = lr_clf.predict(features)\n",
        "# F-1 score\n",
        "print (\"Training set f1_score :\", np.round(f1_score(train['target'][0:2000], predictions),5))"
      ],
      "execution_count": null,
      "outputs": []
    },
    {
      "cell_type": "markdown",
      "metadata": {
        "id": "QtOIUDsVVGzf",
        "colab_type": "text"
      },
      "source": [
        "# Exporto resultado final\n"
      ]
    },
    {
      "cell_type": "code",
      "metadata": {
        "id": "iAlqzwVqVJDq",
        "colab_type": "code",
        "colab": {}
      },
      "source": [
        "test_labels = lr_clf.predict(test_features)\n",
        "submit = sub_sample.copy()\n",
        "submit.target = test_labels\n",
        "submit.to_csv('submit_bert.csv',index=False)"
      ],
      "execution_count": null,
      "outputs": []
    }
  ]
}