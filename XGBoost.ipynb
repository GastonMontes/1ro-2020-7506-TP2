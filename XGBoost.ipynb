{
 "cells": [
  {
   "cell_type": "code",
   "execution_count": 1,
   "metadata": {},
   "outputs": [],
   "source": [
    "from sklearn.model_selection import cross_val_score\n",
    "from sklearn.model_selection import ShuffleSplit\n",
    "from sklearn.metrics import confusion_matrix\n",
    "from sklearn.metrics import f1_score\n",
    "import xgboost as xgb\n",
    "import pandas as pd\n",
    "import numpy as np"
   ]
  },
  {
   "cell_type": "markdown",
   "metadata": {},
   "source": [
    "### IMPORTANTE: correr el archivo Data Processing.ipynb que se encuentra en la carpeta Data/ antes de leer los .csv"
   ]
  },
  {
   "cell_type": "code",
   "execution_count": 2,
   "metadata": {},
   "outputs": [
    {
     "name": "stdout",
     "output_type": "stream",
     "text": [
      "(7613, 1844) (3263, 1843) (3263, 2)\n"
     ]
    }
   ],
   "source": [
    "train = pd.read_csv(\"Data/train_processed_tf_idf_bow.csv\")\n",
    "test = pd.read_csv(\"Data/test_processed_tf_idf_bow.csv\")\n",
    "sub_sample = pd.read_csv(\"Data/sample_submission.csv\")\n",
    "\n",
    "print (train.shape, test.shape, sub_sample.shape)"
   ]
  },
  {
   "cell_type": "markdown",
   "metadata": {},
   "source": [
    "## XGBoost"
   ]
  },
  {
   "cell_type": "markdown",
   "metadata": {},
   "source": [
    "Como parte del preprocesamiento se escalan los datos aplicando normalizacion y como modelo XGBoost"
   ]
  },
  {
   "cell_type": "code",
   "execution_count": null,
   "metadata": {
    "lines_to_next_cell": 2
   },
   "outputs": [],
   "source": [
    "features_to_drop = ['id', 'keyword','location','text','location_clean','text_clean', 'hashtags', 'mentions','links']\n",
    "\n",
    "X_train = train.drop(columns = features_to_drop + ['target'])\n",
    "X_test = test.drop(columns = features_to_drop)\n",
    "y_train = train.target\n",
    "\n",
    "clf = xgb.XGBClassifier(max_depth=200, n_estimators=400, subsample=1, learning_rate=0.07, reg_lambda=0.1, reg_alpha=0.1,\\\n",
    "                       gamma=1)\n",
    "clf.fit(X_train, y_train)\n",
    "\n",
    "y_test = clf.predict(X_train)\n",
    "\n",
    "submit = sub_sample.copy()\n",
    "submit.target = y_test\n",
    "submit.to_csv('submit_xgboost.csv',index=False)"
   ]
  },
  {
   "cell_type": "code",
   "execution_count": null,
   "metadata": {},
   "outputs": [],
   "source": [
    "# F-1 score\n",
    "print (\"Training set f1_score :\", np.round(f1_score(y_train, predictions),5))"
   ]
  },
  {
   "cell_type": "code",
   "execution_count": null,
   "metadata": {},
   "outputs": [],
   "source": [
    "# Matriz de Confucion\n",
    "pd.DataFrame(confusion_matrix(y_train, clf.predict(X_train)))"
   ]
  },
  {
   "cell_type": "markdown",
   "metadata": {},
   "source": [
    "## Evaluacion del Modelo"
   ]
  },
  {
   "cell_type": "code",
   "execution_count": null,
   "metadata": {},
   "outputs": [],
   "source": [
    "# Cross validation\n",
    "cv = ShuffleSplit(n_splits=5, test_size=0.2, random_state=123)\n",
    "cv_score = cross_val_score(clf, X_train, y_train, cv=cv, scoring='f1')\n",
    "print('Cross validation F-1 score: %.3f' %np.mean(cv_score))"
   ]
  }
 ],
 "metadata": {
  "jupytext": {
   "formats": "ipynb,py"
  },
  "kernelspec": {
   "display_name": "Python 3",
   "language": "python",
   "name": "python3"
  },
  "language_info": {
   "codemirror_mode": {
    "name": "ipython",
    "version": 3
   },
   "file_extension": ".py",
   "mimetype": "text/x-python",
   "name": "python",
   "nbconvert_exporter": "python",
   "pygments_lexer": "ipython3",
   "version": "3.8.3"
  }
 },
 "nbformat": 4,
 "nbformat_minor": 4
}
